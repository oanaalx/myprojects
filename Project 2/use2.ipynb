{
 "cells": [
  {
   "cell_type": "code",
   "execution_count": 4,
   "metadata": {},
   "outputs": [],
   "source": [
    "from tensorflow.keras.models import load_model\n",
    "from tensorflow.keras.preprocessing import image\n",
    "from pathlib import Path\n",
    "import numpy as np\n",
    "from PIL import Image\n",
    "import sys\n",
    "sys.modules['Image']=Image\n",
    "import PIL"
   ]
  },
  {
   "cell_type": "code",
   "execution_count": 5,
   "metadata": {},
   "outputs": [],
   "source": [
    "# load the model\n",
    "model=load_model('bird_model.h5')"
   ]
  },
  {
   "cell_type": "code",
   "execution_count": 6,
   "metadata": {},
   "outputs": [
    {
     "name": "stdout",
     "output_type": "stream",
     "text": [
      "1/1 [==============================] - 0s 142ms/step\n",
      "bird1.png is most likely a bird! (0.97)\n",
      "1/1 [==============================] - 0s 27ms/step\n",
      "bird1.png is most likely a bird! (0.97)\n",
      "1/1 [==============================] - 0s 32ms/step\n",
      "bird2.png is most likely a bird! (0.98)\n",
      "1/1 [==============================] - 0s 23ms/step\n",
      "bird2.png is most likely a bird! (0.98)\n",
      "1/1 [==============================] - 0s 23ms/step\n",
      "bird3.png is most likely NOT a bird! (0.12)\n",
      "1/1 [==============================] - 0s 27ms/step\n",
      "bird3.png is most likely NOT a bird! (0.12)\n",
      "1/1 [==============================] - 0s 24ms/step\n",
      "bird4.png is most likely a bird! (0.92)\n",
      "1/1 [==============================] - 0s 29ms/step\n",
      "bird4.png is most likely a bird! (0.92)\n",
      "1/1 [==============================] - 0s 20ms/step\n",
      "bird5.png is most likely a bird! (0.93)\n",
      "1/1 [==============================] - 0s 26ms/step\n",
      "bird5.png is most likely a bird! (0.93)\n",
      "1/1 [==============================] - 0s 26ms/step\n",
      "not_bird1.png is most likely NOT a bird! (0.00)\n",
      "1/1 [==============================] - 0s 26ms/step\n",
      "not_bird1.png is most likely NOT a bird! (0.00)\n",
      "1/1 [==============================] - 0s 24ms/step\n",
      "not_bird2.png is most likely NOT a bird! (0.01)\n",
      "1/1 [==============================] - 0s 22ms/step\n",
      "not_bird2.png is most likely NOT a bird! (0.01)\n",
      "1/1 [==============================] - 0s 24ms/step\n",
      "not_bird3.png is most likely NOT a bird! (0.25)\n",
      "1/1 [==============================] - 0s 31ms/step\n",
      "not_bird3.png is most likely NOT a bird! (0.25)\n",
      "1/1 [==============================] - 0s 30ms/step\n",
      "not_bird4.png is most likely NOT a bird! (0.00)\n",
      "1/1 [==============================] - 0s 21ms/step\n",
      "not_bird4.png is most likely NOT a bird! (0.00)\n",
      "1/1 [==============================] - 0s 21ms/step\n",
      "not_bird5.png is most likely NOT a bird! (0.00)\n",
      "1/1 [==============================] - 0s 19ms/step\n",
      "not_bird5.png is most likely NOT a bird! (0.00)\n"
     ]
    }
   ],
   "source": [
    "for f in sorted(Path(\".\").glob(\"*.png\")):\n",
    "\n",
    "    # Load an image file to test\n",
    "    image_to_test = image.load_img(str(f), target_size=(32, 32))\n",
    "\n",
    "    # Convert the image data to a numpy array suitable for Keras\n",
    "    image_to_test = image.img_to_array(image_to_test)\n",
    "\n",
    "    # Normalize the image the same way we normalized the training data (divide all numbers by 255)\n",
    "    image_to_test /= 255\n",
    "\n",
    "    # Add a fourth dimension to the image since Keras expects a list of images\n",
    "    list_of_images = np.expand_dims(image_to_test, axis=0)\n",
    "\n",
    "    # Make a prediction using the bird model\n",
    "    results = model.predict(list_of_images)\n",
    "\n",
    "    # Since we only passed in one test image, we can just check the first result directly.\n",
    "    image_likelihood = results[0][0]\n",
    "\n",
    "    # The result will be a number from 0.0 to 1.0 representing the likelihood that this image is a bird.\n",
    "    if image_likelihood > 0.5:\n",
    "        print(f\"{f} is most likely a bird! ({image_likelihood:.2f})\")\n",
    "    else:\n",
    "        print(f\"{f} is most likely NOT a bird! ({image_likelihood:.2f})\")\n",
    "        #prediction\n",
    "    results=model.predict(list_of_images)\n",
    "    image_likelihood=results[0][0]\n",
    "    if image_likelihood > 0.5:\n",
    "        print(f\"{f} is most likely a bird! ({image_likelihood:.2f})\")\n",
    "    else:\n",
    "        print(f\"{f} is most likely NOT a bird! ({image_likelihood:.2f})\")\n",
    "\n",
    "   \n"
   ]
  }
 ],
 "metadata": {
  "kernelspec": {
   "display_name": "Python 3.10.5 64-bit",
   "language": "python",
   "name": "python3"
  },
  "language_info": {
   "codemirror_mode": {
    "name": "ipython",
    "version": 3
   },
   "file_extension": ".py",
   "mimetype": "text/x-python",
   "name": "python",
   "nbconvert_exporter": "python",
   "pygments_lexer": "ipython3",
   "version": "3.10.5"
  },
  "orig_nbformat": 4,
  "vscode": {
   "interpreter": {
    "hash": "db95eab4e6fe7654ac734e027ad1bfbbdd43854697136687cb0f8632ed92c8b6"
   }
  }
 },
 "nbformat": 4,
 "nbformat_minor": 2
}
