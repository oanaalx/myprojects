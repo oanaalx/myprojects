{
 "cells": [
  {
   "cell_type": "code",
   "execution_count": 8,
   "metadata": {},
   "outputs": [],
   "source": [
    "from tensorflow.keras.datasets import cifar10\n",
    "from tensorflow.keras.models import Sequential\n",
    "from tensorflow.keras.layers import Dense, Dropout, Flatten, Conv2D, MaxPooling2D, BatchNormalization"
   ]
  },
  {
   "cell_type": "code",
   "execution_count": 9,
   "metadata": {},
   "outputs": [],
   "source": [
    "# load the dataset\n",
    "(x_train, y_train), (x_test, y_test)=cifar10.load_data()"
   ]
  },
  {
   "cell_type": "code",
   "execution_count": 10,
   "metadata": {},
   "outputs": [],
   "source": [
    "y_train = (y_train == 2).astype(int)\n",
    "y_test = (y_test == 2).astype(int)"
   ]
  },
  {
   "cell_type": "code",
   "execution_count": 11,
   "metadata": {},
   "outputs": [],
   "source": [
    "# normalize image data\n",
    "x_train = x_train.astype('float32')\n",
    "x_test = x_test.astype('float32')\n",
    "x_train /= 255\n",
    "x_test /= 255"
   ]
  },
  {
   "cell_type": "code",
   "execution_count": 12,
   "metadata": {},
   "outputs": [],
   "source": [
    "# create the model\n",
    "model=Sequential()"
   ]
  },
  {
   "cell_type": "code",
   "execution_count": 13,
   "metadata": {},
   "outputs": [],
   "source": [
    "# adding layers\n",
    "model.add(Conv2D(32, (3, 3), padding='same', input_shape=(32, 32, 3), activation=\"relu\"))\n",
    "model.add(Conv2D(32, (3, 3), activation=\"relu\"))\n",
    "model.add(MaxPooling2D(pool_size=(2, 2)))\n",
    "model.add(BatchNormalization())\n",
    "model.add(Dropout(0.25))"
   ]
  },
  {
   "cell_type": "code",
   "execution_count": 14,
   "metadata": {},
   "outputs": [],
   "source": [
    "model.add(Conv2D(64, (3, 3), padding='same', activation=\"relu\"))\n",
    "model.add(Conv2D(64, (3, 3), activation=\"relu\"))\n",
    "model.add(MaxPooling2D(pool_size=(2, 2)))\n",
    "model.add(BatchNormalization())\n",
    "model.add(Dropout(0.25))"
   ]
  },
  {
   "cell_type": "code",
   "execution_count": 15,
   "metadata": {},
   "outputs": [],
   "source": [
    "model.add(Flatten())\n",
    "model.add(Dense(512, activation=\"relu\"))\n",
    "model.add(Dropout(0.5))\n",
    "model.add(Dense(1, activation=\"sigmoid\"))"
   ]
  },
  {
   "cell_type": "code",
   "execution_count": 16,
   "metadata": {},
   "outputs": [],
   "source": [
    "# compiling the model\n",
    "model.compile(loss='binary_crossentropy', optimizer=\"adam\", metrics=['accuracy'])"
   ]
  },
  {
   "cell_type": "code",
   "execution_count": 17,
   "metadata": {},
   "outputs": [
    {
     "name": "stdout",
     "output_type": "stream",
     "text": [
      "Epoch 1/10\n",
      "1563/1563 [==============================] - 146s 93ms/step - loss: 0.3183 - accuracy: 0.8935 - val_loss: 0.2887 - val_accuracy: 0.8976\n",
      "Epoch 2/10\n",
      "1563/1563 [==============================] - 156s 100ms/step - loss: 0.2471 - accuracy: 0.9081 - val_loss: 0.2336 - val_accuracy: 0.9116\n",
      "Epoch 3/10\n",
      "1563/1563 [==============================] - 152s 97ms/step - loss: 0.2259 - accuracy: 0.9150 - val_loss: 0.3291 - val_accuracy: 0.8673\n",
      "Epoch 4/10\n",
      "1563/1563 [==============================] - 150s 96ms/step - loss: 0.2100 - accuracy: 0.9206 - val_loss: 0.2418 - val_accuracy: 0.9099\n",
      "Epoch 5/10\n",
      "1563/1563 [==============================] - 147s 94ms/step - loss: 0.1973 - accuracy: 0.9266 - val_loss: 0.2130 - val_accuracy: 0.9216\n",
      "Epoch 6/10\n",
      "1563/1563 [==============================] - 133s 85ms/step - loss: 0.1831 - accuracy: 0.9315 - val_loss: 0.1918 - val_accuracy: 0.9317\n",
      "Epoch 7/10\n",
      "1563/1563 [==============================] - 140s 90ms/step - loss: 0.1722 - accuracy: 0.9362 - val_loss: 0.2062 - val_accuracy: 0.9265\n",
      "Epoch 8/10\n",
      "1563/1563 [==============================] - 144s 92ms/step - loss: 0.1625 - accuracy: 0.9388 - val_loss: 0.2122 - val_accuracy: 0.9230\n",
      "Epoch 9/10\n",
      "1563/1563 [==============================] - 144s 92ms/step - loss: 0.1500 - accuracy: 0.9444 - val_loss: 0.1738 - val_accuracy: 0.9396\n",
      "Epoch 10/10\n",
      "1563/1563 [==============================] - 144s 92ms/step - loss: 0.1414 - accuracy: 0.9474 - val_loss: 0.1676 - val_accuracy: 0.9401\n"
     ]
    },
    {
     "data": {
      "text/plain": [
       "<keras.callbacks.History at 0x21b11e06980>"
      ]
     },
     "execution_count": 17,
     "metadata": {},
     "output_type": "execute_result"
    }
   ],
   "source": [
    "# training the model\n",
    "model.fit(x_train, y_train, batch_size=32, epochs=10, validation_data=(x_test, y_test), shuffle=True)"
   ]
  },
  {
   "cell_type": "code",
   "execution_count": 19,
   "metadata": {},
   "outputs": [],
   "source": [
    "# save the model\n",
    "model.save('bird_model.h5')"
   ]
  }
 ],
 "metadata": {
  "kernelspec": {
   "display_name": "Python 3.10.5 64-bit",
   "language": "python",
   "name": "python3"
  },
  "language_info": {
   "codemirror_mode": {
    "name": "ipython",
    "version": 3
   },
   "file_extension": ".py",
   "mimetype": "text/x-python",
   "name": "python",
   "nbconvert_exporter": "python",
   "pygments_lexer": "ipython3",
   "version": "3.10.5"
  },
  "orig_nbformat": 4,
  "vscode": {
   "interpreter": {
    "hash": "db95eab4e6fe7654ac734e027ad1bfbbdd43854697136687cb0f8632ed92c8b6"
   }
  }
 },
 "nbformat": 4,
 "nbformat_minor": 2
}
