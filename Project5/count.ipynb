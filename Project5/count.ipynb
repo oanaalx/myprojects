{
 "cells": [
  {
   "cell_type": "code",
   "execution_count": 7,
   "metadata": {},
   "outputs": [],
   "source": [
    "import os\n",
    "import numpy as np\n",
    "import matplotlib.pyplot as plt\n",
    "import cv2\n",
    "from pathlib import Path\n"
   ]
  },
  {
   "cell_type": "code",
   "execution_count": null,
   "metadata": {},
   "outputs": [],
   "source": [
    "import torch"
   ]
  },
  {
   "cell_type": "code",
   "execution_count": 10,
   "metadata": {},
   "outputs": [],
   "source": [
    "import mrcnn.config\n",
    "\n"
   ]
  },
  {
   "cell_type": "code",
   "execution_count": 11,
   "metadata": {},
   "outputs": [],
   "source": [
    "import mrcnn.visualize\n"
   ]
  },
  {
   "cell_type": "code",
   "execution_count": 12,
   "metadata": {},
   "outputs": [],
   "source": [
    "import mrcnn.utils"
   ]
  },
  {
   "cell_type": "code",
   "execution_count": 17,
   "metadata": {},
   "outputs": [
    {
     "name": "stderr",
     "output_type": "stream",
     "text": [
      "c:\\Users\\OanaAlexandru\\AppData\\Local\\Programs\\Python\\Python310\\lib\\site-packages\\mrcnn\\model.py:2337: SyntaxWarning: \"is\" with a literal. Did you mean \"==\"?\n",
      "  if os.name is 'nt':\n",
      "c:\\Users\\OanaAlexandru\\AppData\\Local\\Programs\\Python\\Python310\\lib\\site-packages\\mrcnn\\model.py:2337: SyntaxWarning: \"is\" with a literal. Did you mean \"==\"?\n",
      "  if os.name is 'nt':\n"
     ]
    },
    {
     "ename": "AttributeError",
     "evalue": "module 'keras.engine' has no attribute 'Layer'",
     "output_type": "error",
     "traceback": [
      "\u001b[1;31m---------------------------------------------------------------------------\u001b[0m",
      "\u001b[1;31mAttributeError\u001b[0m                            Traceback (most recent call last)",
      "\u001b[1;32mc:\\Users\\OanaAlexandru\\OneDrive - Coherent Solutions\\Project5\\count.ipynb Cell 5\u001b[0m in \u001b[0;36m<cell line: 2>\u001b[1;34m()\u001b[0m\n\u001b[0;32m      <a href='vscode-notebook-cell:/c%3A/Users/OanaAlexandru/OneDrive%20-%20Coherent%20Solutions/Project5/count.ipynb#ch0000005?line=0'>1</a>\u001b[0m \u001b[39mimport\u001b[39;00m \u001b[39mkeras\u001b[39;00m\u001b[39m.\u001b[39;00m\u001b[39mengine\u001b[39;00m \u001b[39mas\u001b[39;00m \u001b[39mKE\u001b[39;00m\n\u001b[1;32m----> <a href='vscode-notebook-cell:/c%3A/Users/OanaAlexandru/OneDrive%20-%20Coherent%20Solutions/Project5/count.ipynb#ch0000005?line=1'>2</a>\u001b[0m \u001b[39mfrom\u001b[39;00m \u001b[39mmrcnn\u001b[39;00m\u001b[39m.\u001b[39;00m\u001b[39mmodel\u001b[39;00m \u001b[39mimport\u001b[39;00m MaskRCNN\n",
      "File \u001b[1;32mc:\\Users\\OanaAlexandru\\AppData\\Local\\Programs\\Python\\Python310\\lib\\site-packages\\mrcnn\\model.py:255\u001b[0m, in \u001b[0;36m<module>\u001b[1;34m\u001b[0m\n\u001b[0;32m    251\u001b[0m     clipped\u001b[39m.\u001b[39mset_shape((clipped\u001b[39m.\u001b[39mshape[\u001b[39m0\u001b[39m], \u001b[39m4\u001b[39m))\n\u001b[0;32m    252\u001b[0m     \u001b[39mreturn\u001b[39;00m clipped\n\u001b[1;32m--> 255\u001b[0m \u001b[39mclass\u001b[39;00m \u001b[39mProposalLayer\u001b[39;00m(KE\u001b[39m.\u001b[39;49mLayer):\n\u001b[0;32m    256\u001b[0m     \u001b[39m\"\"\"Receives anchor scores and selects a subset to pass as proposals\u001b[39;00m\n\u001b[0;32m    257\u001b[0m \u001b[39m    to the second stage. Filtering is done based on anchor scores and\u001b[39;00m\n\u001b[0;32m    258\u001b[0m \u001b[39m    non-max suppression to remove overlaps. It also applies bounding\u001b[39;00m\n\u001b[1;32m   (...)\u001b[0m\n\u001b[0;32m    267\u001b[0m \u001b[39m        Proposals in normalized coordinates [batch, rois, (y1, x1, y2, x2)]\u001b[39;00m\n\u001b[0;32m    268\u001b[0m \u001b[39m    \"\"\"\u001b[39;00m\n\u001b[0;32m    270\u001b[0m     \u001b[39mdef\u001b[39;00m \u001b[39m__init__\u001b[39m(\u001b[39mself\u001b[39m, proposal_count, nms_threshold, config\u001b[39m=\u001b[39m\u001b[39mNone\u001b[39;00m, \u001b[39m*\u001b[39m\u001b[39m*\u001b[39mkwargs):\n",
      "\u001b[1;31mAttributeError\u001b[0m: module 'keras.engine' has no attribute 'Layer'"
     ]
    }
   ],
   "source": [
    "import keras.engine as KE\n",
    "from mrcnn.model import MaskRCNN"
   ]
  },
  {
   "cell_type": "code",
   "execution_count": 14,
   "metadata": {},
   "outputs": [],
   "source": [
    "from pathlib import Path"
   ]
  },
  {
   "cell_type": "code",
   "execution_count": 15,
   "metadata": {},
   "outputs": [],
   "source": []
  }
 ],
 "metadata": {
  "kernelspec": {
   "display_name": "Python 3.10.5 64-bit",
   "language": "python",
   "name": "python3"
  },
  "language_info": {
   "codemirror_mode": {
    "name": "ipython",
    "version": 3
   },
   "file_extension": ".py",
   "mimetype": "text/x-python",
   "name": "python",
   "nbconvert_exporter": "python",
   "pygments_lexer": "ipython3",
   "version": "3.10.5"
  },
  "orig_nbformat": 4,
  "vscode": {
   "interpreter": {
    "hash": "db95eab4e6fe7654ac734e027ad1bfbbdd43854697136687cb0f8632ed92c8b6"
   }
  }
 },
 "nbformat": 4,
 "nbformat_minor": 2
}
